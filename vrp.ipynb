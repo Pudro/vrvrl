{
 "cells": [
  {
   "cell_type": "code",
   "execution_count": 1,
   "id": "c0f01287",
   "metadata": {},
   "outputs": [],
   "source": [
    "from ortools.constraint_solver import routing_enums_pb2\n",
    "from ortools.constraint_solver import pywrapcp"
   ]
  },
  {
   "cell_type": "markdown",
   "id": "5b42e58f",
   "metadata": {},
   "source": [
    "####  distance_matrix: An array of distances between locations on meters.\n",
    "#### num_locations: The number of locations.\n",
    "#### num_vehicles: The number of vehicles in the fleet.\n",
    "#### depot: The index of the depot, the location where all vehicles start and end their routes."
   ]
  },
  {
   "cell_type": "code",
   "execution_count": 30,
   "id": "2b50380d",
   "metadata": {},
   "outputs": [],
   "source": [
    "points = [[3, 2], [5, 2], [7, 5]]"
   ]
  },
  {
   "cell_type": "code",
   "execution_count": 31,
   "id": "50a39f19",
   "metadata": {},
   "outputs": [
    {
     "data": {
      "image/png": "[encoded data removed]",
      "text/plain": [
       "<Figure size 640x480 with 1 Axes>"
      ]
     },
     "metadata": {},
     "output_type": "display_data"
    }
   ],
   "source": [
    "import matplotlib.pyplot as plt\n",
    "\n",
    "points = [[3, 2], [5, 2], [7, 5]]\n",
    "\n",
    "# Extract x and y coordinates\n",
    "x_coordinates = [point[0] for point in points]\n",
    "y_coordinates = [point[1] for point in points]\n",
    "\n",
    "# Plot the points\n",
    "plt.scatter(x_coordinates, y_coordinates, color='red', marker='o')\n",
    "\n",
    "# Add labels and title\n",
    "plt.title('Visualization of Points')\n",
    "plt.xlabel('X-axis')\n",
    "plt.ylabel('Y-axis')\n",
    "plt.grid(True)\n",
    "# Show the plot\n",
    "plt.show()\n"
   ]
  },
  {
   "cell_type": "code",
   "execution_count": 78,
   "id": "65f18b5c",
   "metadata": {},
   "outputs": [],
   "source": [
    "def manhattan_distance(point1, point2):\n",
    "    return abs(point1[0] - point2[0]) + abs(point1[1] - point2[1])\n",
    "\n",
    "def creating_matrix(points):\n",
    "    # Inicjalizacja macierzy odległości zerami\n",
    "    distance_matrix = [[0 for _ in range(len(points))] for _ in range(len(points))]\n",
    "\n",
    "    # Wypełnianie macierzy odległości\n",
    "    for i in range(len(points)):\n",
    "        for j in range(len(points)):\n",
    "            distance_matrix[i][j] = manhattan_distance(points[i], points[j])\n",
    "    return distance_matrix"
   ]
  },
  {
   "cell_type": "markdown",
   "id": "ae79233c",
   "metadata": {},
   "source": [
    "### start for paper"
   ]
  },
  {
   "cell_type": "code",
   "execution_count": 16,
   "id": "a1488a77",
   "metadata": {},
   "outputs": [],
   "source": [
    "matrix = [[0.0, 0.5903636317721634, 0.683673943665646, 0.44011235595489956, 0.18263436900301927, 0.03517215283597537, 0.2647347985681034, 0.3928112694523105, 0.16163491238906158, 0.5909685491463614, 0.4568542468557505], [0.5903636317721634, 0.0, 0.25612732176293496, 0.19109930874428313, 0.4617991336650459, 0.567653558826718, 0.6109682286817637, 0.36914382113648647, 0.48965997942205713, 0.17475843592283455, 1.0413789629479722], [0.683673943665646, 0.25612732176293496, 0.0, 0.25628507489994234, 0.5117113645946397, 0.6524803229828201, 0.7878941919909195, 0.5903234988624358, 0.5391476483236425, 0.10595448724107487, 1.0931341451644412], [0.44011235595489956, 0.19109930874428313, 0.25628507489994234, 0.0, 0.2857642243880516, 0.4118573440430331, 0.5328673370839396, 0.3616696372860891, 0.3143336076371871, 0.15442986762597377, 0.8748413412190906], [0.18263436900301927, 0.4617991336650459, 0.5117113645946397, 0.2857642243880516, 0.0, 0.14811057402679165, 0.39001296416256515, 0.3921395457987575, 0.028578343718642082, 0.4264010520303294, 0.5895933894750109], [0.03517215283597537, 0.567653558826718, 0.6524803229828201, 0.4118573440430331, 0.14811057402679165, 0.0, 0.2886587153494256, 0.3920845377209263, 0.12654378252450532, 0.5612643060737154, 0.47507184753266174], [0.2647347985681034, 0.6109682286817637, 0.7878941919909195, 0.5328673370839396, 0.39001296416256515, 0.2886587153494256, 0.0, 0.2728926243954447, 0.38384919679619406, 0.6830271244112902, 0.6030675712446354], [0.3928112694523105, 0.36914382113648647, 0.5903234988624358, 0.3616696372860891, 0.3921395457987575, 0.3920845377209263, 0.2728926243954447, 0.0, 0.40562258337008805, 0.48569384383986897, 0.8287112386056509], [0.16163491238906158, 0.48965997942205713, 0.5391476483236425, 0.3143336076371871, 0.028578343718642082, 0.12654378252450532, 0.38384919679619406, 0.40562258337008805, 0.0, 0.45465091417374365, 0.5610481891526209], [0.5909685491463614, 0.17475843592283455, 0.10595448724107487, 0.15442986762597377, 0.4264010520303294, 0.5612643060737154, 0.6830271244112902, 0.48569384383986897, 0.45465091417374365, 0.0, 1.0145041935103885], [0.4568542468557505, 1.0413789629479722, 1.0931341451644412, 0.8748413412190906, 0.5895933894750109, 0.47507184753266174, 0.6030675712446354, 0.8287112386056509, 0.5610481891526209, 1.0145041935103885, 0.0]]"
   ]
  },
  {
   "cell_type": "code",
   "execution_count": 17,
   "id": "b40e0b36",
   "metadata": {},
   "outputs": [
    {
     "data": {
      "text/plain": [
       "11"
      ]
     },
     "execution_count": 17,
     "metadata": {},
     "output_type": "execute_result"
    }
   ],
   "source": [
    "len(matrix)"
   ]
  },
  {
   "cell_type": "code",
   "execution_count": 18,
   "id": "1a037527",
   "metadata": {},
   "outputs": [],
   "source": [
    "def float_to_int(z):\n",
    "    for i, x in enumerate(z):\n",
    "        for ii, y in enumerate(x):\n",
    "            \n",
    "            z[i][ii] = int(y *100)\n",
    "    return z\n"
   ]
  },
  {
   "cell_type": "code",
   "execution_count": 19,
   "id": "99d0c266",
   "metadata": {},
   "outputs": [
    {
     "data": {
      "text/plain": [
       "[[0, 59, 68, 44, 18, 3, 26, 39, 16, 59, 45],\n",
       " [59, 0, 25, 19, 46, 56, 61, 36, 48, 17, 104],\n",
       " [68, 25, 0, 25, 51, 65, 78, 59, 53, 10, 109],\n",
       " [44, 19, 25, 0, 28, 41, 53, 36, 31, 15, 87],\n",
       " [18, 46, 51, 28, 0, 14, 39, 39, 2, 42, 58],\n",
       " [3, 56, 65, 41, 14, 0, 28, 39, 12, 56, 47],\n",
       " [26, 61, 78, 53, 39, 28, 0, 27, 38, 68, 60],\n",
       " [39, 36, 59, 36, 39, 39, 27, 0, 40, 48, 82],\n",
       " [16, 48, 53, 31, 2, 12, 38, 40, 0, 45, 56],\n",
       " [59, 17, 10, 15, 42, 56, 68, 48, 45, 0, 101],\n",
       " [45, 104, 109, 87, 58, 47, 60, 82, 56, 101, 0]]"
      ]
     },
     "execution_count": 19,
     "metadata": {},
     "output_type": "execute_result"
    }
   ],
   "source": [
    "matrix_dist = float_to_int(matrix)\n",
    "matrix_dist"
   ]
  },
  {
   "cell_type": "code",
   "execution_count": 30,
   "id": "619cae89",
   "metadata": {},
   "outputs": [],
   "source": [
    "\"\"\"Capacited Vehicles Routing Problem (CVRP).\"\"\"\n",
    "from ortools.constraint_solver import routing_enums_pb2\n",
    "from ortools.constraint_solver import pywrapcp\n",
    "\n",
    "\n",
    "def create_data_model():\n",
    "    \"\"\"Stores the data for the problem.\"\"\"\n",
    "    data = {}\n",
    "    data[\"distance_matrix\"] =  matrix_dist\n",
    "    data[\"demands\"] = [0, 7, 2, 1, 2, 9, 9, 4, 9, 8, 4]\n",
    "    data[\"vehicle_capacities\"] = [20, 20, 20, 20]\n",
    "    data[\"num_vehicles\"] = 4\n",
    "    data[\"depot\"] = 0\n",
    "    return data"
   ]
  },
  {
   "cell_type": "code",
   "execution_count": 31,
   "id": "51276879",
   "metadata": {},
   "outputs": [],
   "source": [
    "def print_solution(data, manager, routing, solution):\n",
    "    \"\"\"Prints solution on console.\"\"\"\n",
    "    print(f\"Objective: {solution.ObjectiveValue()}\")\n",
    "    total_distance = 0\n",
    "    total_load = 0\n",
    "    for vehicle_id in range(data[\"num_vehicles\"]):\n",
    "        index = routing.Start(vehicle_id)\n",
    "        plan_output = f\"Route for vehicle {vehicle_id}:\\n\"\n",
    "        route_distance = 0\n",
    "        route_load = 0\n",
    "        while not routing.IsEnd(index):\n",
    "            node_index = manager.IndexToNode(index)\n",
    "            route_load += data[\"demands\"][node_index]\n",
    "            plan_output += f\" {node_index} Load({route_load}) -> \"\n",
    "            previous_index = index\n",
    "            index = solution.Value(routing.NextVar(index))\n",
    "            route_distance += routing.GetArcCostForVehicle(\n",
    "                previous_index, index, vehicle_id\n",
    "            )\n",
    "        plan_output += f\" {manager.IndexToNode(index)} Load({route_load})\\n\"\n",
    "        plan_output += f\"Distance of the route: {route_distance}m\\n\"\n",
    "        plan_output += f\"Load of the route: {route_load}\\n\"\n",
    "        print(plan_output)\n",
    "        total_distance += route_distance\n",
    "        total_load += route_load\n",
    "    print(f\"Total distance of all routes: {total_distance}m\")\n",
    "    print(f\"Total load of all routes: {total_load}\")\n"
   ]
  },
  {
   "cell_type": "code",
   "execution_count": 32,
   "id": "7d3991c3",
   "metadata": {},
   "outputs": [],
   "source": [
    "def main():\n",
    "    \"\"\"Solve the CVRP problem.\"\"\"\n",
    "    # Instantiate the data problem.\n",
    "    data = create_data_model()\n",
    "\n",
    "    # Create the routing index manager.\n",
    "    manager = pywrapcp.RoutingIndexManager(\n",
    "        len(data[\"distance_matrix\"]), data[\"num_vehicles\"], data[\"depot\"]\n",
    "    )\n",
    "\n",
    "    # Create Routing Model.\n",
    "    routing = pywrapcp.RoutingModel(manager)\n",
    "\n",
    "    # Create and register a transit callback.\n",
    "    def distance_callback(from_index, to_index):\n",
    "        \"\"\"Returns the distance between the two nodes.\"\"\"\n",
    "        # Convert from routing variable Index to distance matrix NodeIndex.\n",
    "        from_node = manager.IndexToNode(from_index)\n",
    "        to_node = manager.IndexToNode(to_index)\n",
    "        return data[\"distance_matrix\"][from_node][to_node]\n",
    "\n",
    "    transit_callback_index = routing.RegisterTransitCallback(distance_callback)\n",
    "\n",
    "    # Define cost of each arc.\n",
    "    routing.SetArcCostEvaluatorOfAllVehicles(transit_callback_index)\n",
    "\n",
    "    # Add Capacity constraint.\n",
    "    def demand_callback(from_index):\n",
    "        \"\"\"Returns the demand of the node.\"\"\"\n",
    "        # Convert from routing variable Index to demands NodeIndex.\n",
    "        from_node = manager.IndexToNode(from_index)\n",
    "        return data[\"demands\"][from_node]\n",
    "\n",
    "    demand_callback_index = routing.RegisterUnaryTransitCallback(demand_callback)\n",
    "    routing.AddDimensionWithVehicleCapacity(\n",
    "        demand_callback_index,\n",
    "        0,  # null capacity slack\n",
    "        data[\"vehicle_capacities\"],  # vehicle maximum capacities\n",
    "        True,  # start cumul to zero\n",
    "        \"Capacity\",\n",
    "    )\n",
    "\n",
    "    # Setting first solution heuristic.\n",
    "    search_parameters = pywrapcp.DefaultRoutingSearchParameters()\n",
    "    search_parameters.first_solution_strategy = (\n",
    "        routing_enums_pb2.FirstSolutionStrategy.PATH_CHEAPEST_ARC\n",
    "    )\n",
    "    search_parameters.local_search_metaheuristic = (\n",
    "        routing_enums_pb2.LocalSearchMetaheuristic.GUIDED_LOCAL_SEARCH\n",
    "    )\n",
    "    search_parameters.time_limit.FromSeconds(1)\n",
    "\n",
    "    # Solve the problem.\n",
    "    solution = routing.SolveWithParameters(search_parameters)\n",
    "\n",
    "    # Print solution on console.\n",
    "    if solution:\n",
    "        print_solution(data, manager, routing, solution)\n"
   ]
  },
  {
   "cell_type": "code",
   "execution_count": 33,
   "id": "c5d4a652",
   "metadata": {},
   "outputs": [
    {
     "name": "stdout",
     "output_type": "stream",
     "text": [
      "Objective: 357\n",
      "Route for vehicle 0:\n",
      " 0 Load(0) ->  0 Load(0)\n",
      "Distance of the route: 0m\n",
      "Load of the route: 0\n",
      "\n",
      "Route for vehicle 1:\n",
      " 0 Load(0) ->  4 Load(2) ->  3 Load(3) ->  9 Load(11) ->  2 Load(13) ->  1 Load(20) ->  0 Load(20)\n",
      "Distance of the route: 155m\n",
      "Load of the route: 20\n",
      "\n",
      "Route for vehicle 2:\n",
      " 0 Load(0) ->  7 Load(4) ->  6 Load(13) ->  10 Load(17) ->  0 Load(17)\n",
      "Distance of the route: 171m\n",
      "Load of the route: 17\n",
      "\n",
      "Route for vehicle 3:\n",
      " 0 Load(0) ->  5 Load(9) ->  8 Load(18) ->  0 Load(18)\n",
      "Distance of the route: 31m\n",
      "Load of the route: 18\n",
      "\n",
      "Total distance of all routes: 357m\n",
      "Total load of all routes: 55\n"
     ]
    }
   ],
   "source": [
    "main()"
   ]
  },
  {
   "cell_type": "code",
   "execution_count": null,
   "id": "476500af",
   "metadata": {},
   "outputs": [],
   "source": [
    "[[0, 4, 7, 9, 3, 0], [0, 5, 2, 8, 0], [0, 10, 1, 6, 0], [0, 0]]"
   ]
  },
  {
   "cell_type": "markdown",
   "id": "277e4c79",
   "metadata": {},
   "source": [
    "### time limit for searching"
   ]
  },
  {
   "cell_type": "code",
   "execution_count": 20,
   "id": "6aae66a8",
   "metadata": {},
   "outputs": [],
   "source": [
    "search_parameters = pywrapcp.DefaultRoutingSearchParameters()\n",
    "search_parameters.time_limit.seconds = 60"
   ]
  },
  {
   "cell_type": "code",
   "execution_count": 29,
   "id": "53b1846d",
   "metadata": {},
   "outputs": [
    {
     "name": "stdout",
     "output_type": "stream",
     "text": [
      "Objective: 0\n",
      "Route for vehicle 0:\n",
      " 0 Load(0) ->  0 Load(0)\n",
      "Distance of the route: 0m\n",
      "Load of the route: 0\n",
      "\n",
      "Route for vehicle 1:\n",
      " 0 Load(0) ->  0 Load(0)\n",
      "Distance of the route: 0m\n",
      "Load of the route: 0\n",
      "\n",
      "Route for vehicle 2:\n",
      " 0 Load(0) ->  0 Load(0)\n",
      "Distance of the route: 0m\n",
      "Load of the route: 0\n",
      "\n",
      "Route for vehicle 3:\n",
      " 0 Load(0) ->  0 Load(0)\n",
      "Distance of the route: 0m\n",
      "Load of the route: 0\n",
      "\n",
      "Total distance of all routes: 0m\n",
      "Total load of all routes: 0\n"
     ]
    }
   ],
   "source": [
    "\"\"\"Capacited Vehicles Routing Problem (CVRP).\"\"\"\n",
    "\n",
    "from ortools.constraint_solver import routing_enums_pb2\n",
    "from ortools.constraint_solver import pywrapcp\n",
    "\n",
    "\n",
    "def create_data_model():\n",
    "    \"\"\"Stores the data for the problem.\"\"\"\n",
    "    data = {}\n",
    "    data[\"distance_matrix\"] = [[0, 42, 30, 63, 27, 53, 57, 79, 62, 41, 7],\n",
    " [42, 0, 16, 39, 30, 11, 42, 50, 30, 46, 37],\n",
    " [30, 16, 0, 36, 13, 28, 33, 51, 46, 49, 27],\n",
    " [63, 39, 36, 0, 36, 42, 12, 16, 66, 83, 63],\n",
    " [27, 30, 13, 36, 0, 41, 29, 53, 59, 57, 28],\n",
    " [53, 11, 28, 42, 41, 0, 48, 50, 23, 50, 47],\n",
    " [57, 42, 33, 12, 29, 48, 0, 27, 71, 83, 58],\n",
    " [79, 50, 51, 16, 53, 50, 27, 0, 73, 96, 78],\n",
    " [62, 30, 46, 66, 59, 23, 71, 73, 0, 41, 55],\n",
    " [41, 46, 49, 83, 57, 50, 83, 96, 41, 0, 34],\n",
    " [7, 37, 27, 63, 28, 47, 58, 78, 55, 34, 0]],\n",
    "    \n",
    "    data[\"demands\"] = [0, 4, 3, 1, 5, 3, 5, 2, 8, 9, 3]\n",
    "    data[\"vehicle_capacities\"] = [20, 20, 20, 20]\n",
    "    data[\"num_vehicles\"] = 4\n",
    "    data[\"depot\"] = 0\n",
    "    return data\n",
    "\n",
    "\n",
    "def print_solution(data, manager, routing, solution):\n",
    "    \"\"\"Prints solution on console.\"\"\"\n",
    "    print(f\"Objective: {solution.ObjectiveValue()}\")\n",
    "    total_distance = 0\n",
    "    total_load = 0\n",
    "    for vehicle_id in range(data[\"num_vehicles\"]):\n",
    "        index = routing.Start(vehicle_id)\n",
    "        plan_output = f\"Route for vehicle {vehicle_id}:\\n\"\n",
    "        route_distance = 0\n",
    "        route_load = 0\n",
    "        while not routing.IsEnd(index):\n",
    "            node_index = manager.IndexToNode(index)\n",
    "            route_load += data[\"demands\"][node_index]\n",
    "            plan_output += f\" {node_index} Load({route_load}) -> \"\n",
    "            previous_index = index\n",
    "            index = solution.Value(routing.NextVar(index))\n",
    "            route_distance += routing.GetArcCostForVehicle(\n",
    "                previous_index, index, vehicle_id\n",
    "            )\n",
    "        plan_output += f\" {manager.IndexToNode(index)} Load({route_load})\\n\"\n",
    "        plan_output += f\"Distance of the route: {route_distance}m\\n\"\n",
    "        plan_output += f\"Load of the route: {route_load}\\n\"\n",
    "        print(plan_output)\n",
    "        total_distance += route_distance\n",
    "        total_load += route_load\n",
    "    print(f\"Total distance of all routes: {total_distance}m\")\n",
    "    print(f\"Total load of all routes: {total_load}\")\n",
    "\n",
    "\n",
    "def main():\n",
    "    \"\"\"Solve the CVRP problem.\"\"\"\n",
    "    # Instantiate the data problem.\n",
    "    data = create_data_model()\n",
    "\n",
    "    # Create the routing index manager.\n",
    "    manager = pywrapcp.RoutingIndexManager(\n",
    "        len(data[\"distance_matrix\"]), data[\"num_vehicles\"], data[\"depot\"]\n",
    "    )\n",
    "\n",
    "    # Create Routing Model.\n",
    "    routing = pywrapcp.RoutingModel(manager)\n",
    "\n",
    "    # Create and register a transit callback.\n",
    "    def distance_callback(from_index, to_index):\n",
    "        \"\"\"Returns the distance between the two nodes.\"\"\"\n",
    "        # Convert from routing variable Index to distance matrix NodeIndex.\n",
    "        from_node = manager.IndexToNode(from_index)\n",
    "        to_node = manager.IndexToNode(to_index)\n",
    "        return data[\"distance_matrix\"][from_node][to_node]\n",
    "\n",
    "    transit_callback_index = routing.RegisterTransitCallback(distance_callback)\n",
    "\n",
    "    # Define cost of each arc.\n",
    "    routing.SetArcCostEvaluatorOfAllVehicles(transit_callback_index)\n",
    "\n",
    "    # Add Capacity constraint.\n",
    "    def demand_callback(from_index):\n",
    "        \"\"\"Returns the demand of the node.\"\"\"\n",
    "        # Convert from routing variable Index to demands NodeIndex.\n",
    "        from_node = manager.IndexToNode(from_index)\n",
    "        return data[\"demands\"][from_node]\n",
    "\n",
    "    demand_callback_index = routing.RegisterUnaryTransitCallback(demand_callback)\n",
    "    routing.AddDimensionWithVehicleCapacity(\n",
    "        demand_callback_index,\n",
    "        0,  # null capacity slack\n",
    "        data[\"vehicle_capacities\"],  # vehicle maximum capacities\n",
    "        True,  # start cumul to zero\n",
    "        \"Capacity\",\n",
    "    )\n",
    "\n",
    "    # Setting first solution heuristic.\n",
    "    search_parameters = pywrapcp.DefaultRoutingSearchParameters()\n",
    "    search_parameters.first_solution_strategy = (\n",
    "        routing_enums_pb2.FirstSolutionStrategy.PATH_CHEAPEST_ARC\n",
    "    )\n",
    "    search_parameters.local_search_metaheuristic = (\n",
    "        routing_enums_pb2.LocalSearchMetaheuristic.GUIDED_LOCAL_SEARCH\n",
    "    )\n",
    "    search_parameters.time_limit.FromSeconds(1)\n",
    "\n",
    "    # Solve the problem.\n",
    "    solution = routing.SolveWithParameters(search_parameters)\n",
    "\n",
    "    # Print solution on console.\n",
    "    if solution:\n",
    "        print_solution(data, manager, routing, solution)\n",
    "\n",
    "\n",
    "if __name__ == \"__main__\":\n",
    "    main()"
   ]
  },
  {
   "cell_type": "code",
   "execution_count": null,
   "id": "28f7e19f",
   "metadata": {},
   "outputs": [],
   "source": []
  },
  {
   "cell_type": "code",
   "execution_count": null,
   "id": "0a4784d9",
   "metadata": {},
   "outputs": [],
   "source": []
  }
 ],
 "metadata": {
  "kernelspec": {
   "display_name": "Python 3 (ipykernel)",
   "language": "python",
   "name": "python3"
  },
  "language_info": {
   "codemirror_mode": {
    "name": "ipython",
    "version": 3
   },
   "file_extension": ".py",
   "mimetype": "text/x-python",
   "name": "python",
   "nbconvert_exporter": "python",
   "pygments_lexer": "ipython3",
   "version": "3.11.5"
  }
 },
 "nbformat": 4,
 "nbformat_minor": 5
}
